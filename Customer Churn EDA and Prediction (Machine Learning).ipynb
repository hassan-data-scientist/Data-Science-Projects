{
 "cells": [
  {
   "cell_type": "markdown",
   "id": "6770754a",
   "metadata": {},
   "source": [
    "# Machine Learning Project 1\n",
    "\n",
    "# Customer Churn Analysis and Prediction\n"
   ]
  },
  {
   "cell_type": "markdown",
   "id": "452a031b",
   "metadata": {},
   "source": [
    "## Introduction and Project Goals\n",
    "\n",
    "In this project, we will explore classification using the Logistic Regression and other Classification Models . We will use a customer churn dataset from the telecom industry, which includes customer data such as monthly revenue, types of offerings, and other services purchased by customers. Since the data includes a mix of numeric, categorical, and ordinal variables, we will load this data and do some Exploratory data analysis first to ge the idead of the data before getting our hands on some machine learning models. Then we will use different classificaiton models to predict customer churn rates\n"
   ]
  },
  {
   "cell_type": "markdown",
   "id": "36691600",
   "metadata": {},
   "source": [
    "### Import Data and Librarires"
   ]
  },
  {
   "cell_type": "markdown",
   "id": "09803d62",
   "metadata": {},
   "source": [
    "Lets start by importing our dataset and some neccasary Librarires for Exploratory Data Analysis and Machine Learning"
   ]
  },
  {
   "cell_type": "code",
   "execution_count": 1,
   "id": "d3c62a84",
   "metadata": {},
   "outputs": [
    {
     "name": "stdout",
     "output_type": "stream",
     "text": [
      "Requirement already satisfied: ipython-sql in c:\\users\\hamza sami\\anaconda3\\lib\\site-packages (0.5.0)\n",
      "Requirement already satisfied: prettytable in c:\\users\\hamza sami\\anaconda3\\lib\\site-packages (from ipython-sql) (3.7.0)\n",
      "Requirement already satisfied: sqlalchemy>=2.0 in c:\\users\\hamza sami\\anaconda3\\lib\\site-packages (from ipython-sql) (2.0.14)\n",
      "Requirement already satisfied: sqlparse in c:\\users\\hamza sami\\anaconda3\\lib\\site-packages (from ipython-sql) (0.4.4)\n",
      "Requirement already satisfied: ipython-genutils in c:\\users\\hamza sami\\anaconda3\\lib\\site-packages (from ipython-sql) (0.2.0)\n",
      "Requirement already satisfied: ipython in c:\\users\\hamza sami\\anaconda3\\lib\\site-packages (from ipython-sql) (8.10.0)\n",
      "Requirement already satisfied: six in c:\\users\\hamza sami\\anaconda3\\lib\\site-packages (from ipython-sql) (1.16.0)\n",
      "Requirement already satisfied: typing-extensions>=4.2.0 in c:\\users\\hamza sami\\anaconda3\\lib\\site-packages (from sqlalchemy>=2.0->ipython-sql) (4.4.0)\n",
      "Requirement already satisfied: greenlet!=0.4.17 in c:\\users\\hamza sami\\anaconda3\\lib\\site-packages (from sqlalchemy>=2.0->ipython-sql) (2.0.1)\n",
      "Requirement already satisfied: pygments>=2.4.0 in c:\\users\\hamza sami\\anaconda3\\lib\\site-packages (from ipython->ipython-sql) (2.11.2)\n",
      "Requirement already satisfied: pickleshare in c:\\users\\hamza sami\\anaconda3\\lib\\site-packages (from ipython->ipython-sql) (0.7.5)\n",
      "Requirement already satisfied: colorama in c:\\users\\hamza sami\\anaconda3\\lib\\site-packages (from ipython->ipython-sql) (0.4.6)\n",
      "Requirement already satisfied: traitlets>=5 in c:\\users\\hamza sami\\anaconda3\\lib\\site-packages (from ipython->ipython-sql) (5.7.1)\n",
      "Requirement already satisfied: jedi>=0.16 in c:\\users\\hamza sami\\anaconda3\\lib\\site-packages (from ipython->ipython-sql) (0.18.1)\n",
      "Requirement already satisfied: matplotlib-inline in c:\\users\\hamza sami\\anaconda3\\lib\\site-packages (from ipython->ipython-sql) (0.1.6)\n",
      "Requirement already satisfied: decorator in c:\\users\\hamza sami\\anaconda3\\lib\\site-packages (from ipython->ipython-sql) (5.1.1)\n",
      "Requirement already satisfied: stack-data in c:\\users\\hamza sami\\anaconda3\\lib\\site-packages (from ipython->ipython-sql) (0.2.0)\n",
      "Requirement already satisfied: prompt-toolkit<3.1.0,>=3.0.30 in c:\\users\\hamza sami\\anaconda3\\lib\\site-packages (from ipython->ipython-sql) (3.0.36)\n",
      "Requirement already satisfied: backcall in c:\\users\\hamza sami\\anaconda3\\lib\\site-packages (from ipython->ipython-sql) (0.2.0)\n",
      "Requirement already satisfied: wcwidth in c:\\users\\hamza sami\\anaconda3\\lib\\site-packages (from prettytable->ipython-sql) (0.2.5)\n",
      "Requirement already satisfied: parso<0.9.0,>=0.8.0 in c:\\users\\hamza sami\\anaconda3\\lib\\site-packages (from jedi>=0.16->ipython->ipython-sql) (0.8.3)\n",
      "Requirement already satisfied: executing in c:\\users\\hamza sami\\anaconda3\\lib\\site-packages (from stack-data->ipython->ipython-sql) (0.8.3)\n",
      "Requirement already satisfied: pure-eval in c:\\users\\hamza sami\\anaconda3\\lib\\site-packages (from stack-data->ipython->ipython-sql) (0.2.2)\n",
      "Requirement already satisfied: asttokens in c:\\users\\hamza sami\\anaconda3\\lib\\site-packages (from stack-data->ipython->ipython-sql) (2.0.5)\n",
      "Requirement already satisfied: tqdm in c:\\users\\hamza sami\\anaconda3\\lib\\site-packages (4.64.1)\n",
      "Requirement already satisfied: seaborn in c:\\users\\hamza sami\\anaconda3\\lib\\site-packages (0.12.2)\n",
      "Requirement already satisfied: skillsnetwork in c:\\users\\hamza sami\\anaconda3\\lib\\site-packages (0.20.6)\n",
      "Requirement already satisfied: pandas in c:\\users\\hamza sami\\anaconda3\\lib\\site-packages (1.5.3)\n",
      "Requirement already satisfied: numpy in c:\\users\\hamza sami\\anaconda3\\lib\\site-packages (1.23.5)\n",
      "Requirement already satisfied: scikit-learn in c:\\users\\hamza sami\\anaconda3\\lib\\site-packages (1.2.1)\n",
      "Requirement already satisfied: colorama in c:\\users\\hamza sami\\anaconda3\\lib\\site-packages (from tqdm) (0.4.6)\n",
      "Requirement already satisfied: matplotlib!=3.6.1,>=3.1 in c:\\users\\hamza sami\\anaconda3\\lib\\site-packages (from seaborn) (3.7.0)\n",
      "Requirement already satisfied: ipywidgets<8,>=7 in c:\\users\\hamza sami\\anaconda3\\lib\\site-packages (from skillsnetwork) (7.6.5)\n",
      "Requirement already satisfied: requests<3,>=2 in c:\\users\\hamza sami\\anaconda3\\lib\\site-packages (from skillsnetwork) (2.28.1)\n",
      "Requirement already satisfied: ipython in c:\\users\\hamza sami\\anaconda3\\lib\\site-packages (from skillsnetwork) (8.10.0)\n",
      "Requirement already satisfied: python-dateutil>=2.8.1 in c:\\users\\hamza sami\\anaconda3\\lib\\site-packages (from pandas) (2.8.2)\n",
      "Requirement already satisfied: pytz>=2020.1 in c:\\users\\hamza sami\\anaconda3\\lib\\site-packages (from pandas) (2022.7)\n",
      "Requirement already satisfied: joblib>=1.1.1 in c:\\users\\hamza sami\\anaconda3\\lib\\site-packages (from scikit-learn) (1.1.1)\n",
      "Requirement already satisfied: threadpoolctl>=2.0.0 in c:\\users\\hamza sami\\anaconda3\\lib\\site-packages (from scikit-learn) (2.2.0)\n",
      "Requirement already satisfied: scipy>=1.3.2 in c:\\users\\hamza sami\\anaconda3\\lib\\site-packages (from scikit-learn) (1.10.0)\n",
      "Requirement already satisfied: nbformat>=4.2.0 in c:\\users\\hamza sami\\anaconda3\\lib\\site-packages (from ipywidgets<8,>=7->skillsnetwork) (5.7.0)\n",
      "Requirement already satisfied: ipython-genutils~=0.2.0 in c:\\users\\hamza sami\\anaconda3\\lib\\site-packages (from ipywidgets<8,>=7->skillsnetwork) (0.2.0)\n",
      "Requirement already satisfied: widgetsnbextension~=3.5.0 in c:\\users\\hamza sami\\anaconda3\\lib\\site-packages (from ipywidgets<8,>=7->skillsnetwork) (3.5.2)\n",
      "Requirement already satisfied: ipykernel>=4.5.1 in c:\\users\\hamza sami\\anaconda3\\lib\\site-packages (from ipywidgets<8,>=7->skillsnetwork) (6.19.2)\n",
      "Requirement already satisfied: jupyterlab-widgets>=1.0.0 in c:\\users\\hamza sami\\anaconda3\\lib\\site-packages (from ipywidgets<8,>=7->skillsnetwork) (1.0.0)\n",
      "Requirement already satisfied: traitlets>=4.3.1 in c:\\users\\hamza sami\\anaconda3\\lib\\site-packages (from ipywidgets<8,>=7->skillsnetwork) (5.7.1)\n",
      "Requirement already satisfied: prompt-toolkit<3.1.0,>=3.0.30 in c:\\users\\hamza sami\\anaconda3\\lib\\site-packages (from ipython->skillsnetwork) (3.0.36)\n",
      "Requirement already satisfied: jedi>=0.16 in c:\\users\\hamza sami\\anaconda3\\lib\\site-packages (from ipython->skillsnetwork) (0.18.1)\n",
      "Requirement already satisfied: matplotlib-inline in c:\\users\\hamza sami\\anaconda3\\lib\\site-packages (from ipython->skillsnetwork) (0.1.6)\n",
      "Requirement already satisfied: backcall in c:\\users\\hamza sami\\anaconda3\\lib\\site-packages (from ipython->skillsnetwork) (0.2.0)\n",
      "Requirement already satisfied: stack-data in c:\\users\\hamza sami\\anaconda3\\lib\\site-packages (from ipython->skillsnetwork) (0.2.0)\n",
      "Requirement already satisfied: pygments>=2.4.0 in c:\\users\\hamza sami\\anaconda3\\lib\\site-packages (from ipython->skillsnetwork) (2.11.2)\n",
      "Requirement already satisfied: decorator in c:\\users\\hamza sami\\anaconda3\\lib\\site-packages (from ipython->skillsnetwork) (5.1.1)\n",
      "Requirement already satisfied: pickleshare in c:\\users\\hamza sami\\anaconda3\\lib\\site-packages (from ipython->skillsnetwork) (0.7.5)\n",
      "Requirement already satisfied: pyparsing>=2.3.1 in c:\\users\\hamza sami\\anaconda3\\lib\\site-packages (from matplotlib!=3.6.1,>=3.1->seaborn) (3.0.9)\n",
      "Requirement already satisfied: pillow>=6.2.0 in c:\\users\\hamza sami\\anaconda3\\lib\\site-packages (from matplotlib!=3.6.1,>=3.1->seaborn) (9.4.0)\n",
      "Requirement already satisfied: contourpy>=1.0.1 in c:\\users\\hamza sami\\anaconda3\\lib\\site-packages (from matplotlib!=3.6.1,>=3.1->seaborn) (1.0.5)\n",
      "Requirement already satisfied: kiwisolver>=1.0.1 in c:\\users\\hamza sami\\anaconda3\\lib\\site-packages (from matplotlib!=3.6.1,>=3.1->seaborn) (1.4.4)\n",
      "Requirement already satisfied: cycler>=0.10 in c:\\users\\hamza sami\\anaconda3\\lib\\site-packages (from matplotlib!=3.6.1,>=3.1->seaborn) (0.11.0)\n",
      "Requirement already satisfied: packaging>=20.0 in c:\\users\\hamza sami\\anaconda3\\lib\\site-packages (from matplotlib!=3.6.1,>=3.1->seaborn) (22.0)\n",
      "Requirement already satisfied: fonttools>=4.22.0 in c:\\users\\hamza sami\\anaconda3\\lib\\site-packages (from matplotlib!=3.6.1,>=3.1->seaborn) (4.25.0)\n",
      "Requirement already satisfied: six>=1.5 in c:\\users\\hamza sami\\anaconda3\\lib\\site-packages (from python-dateutil>=2.8.1->pandas) (1.16.0)\n",
      "Requirement already satisfied: urllib3<1.27,>=1.21.1 in c:\\users\\hamza sami\\anaconda3\\lib\\site-packages (from requests<3,>=2->skillsnetwork) (1.26.14)\n",
      "Requirement already satisfied: charset-normalizer<3,>=2 in c:\\users\\hamza sami\\anaconda3\\lib\\site-packages (from requests<3,>=2->skillsnetwork) (2.0.4)\n",
      "Requirement already satisfied: idna<4,>=2.5 in c:\\users\\hamza sami\\anaconda3\\lib\\site-packages (from requests<3,>=2->skillsnetwork) (3.4)\n",
      "Requirement already satisfied: certifi>=2017.4.17 in c:\\users\\hamza sami\\anaconda3\\lib\\site-packages (from requests<3,>=2->skillsnetwork) (2022.12.7)\n",
      "Requirement already satisfied: psutil in c:\\users\\hamza sami\\anaconda3\\lib\\site-packages (from ipykernel>=4.5.1->ipywidgets<8,>=7->skillsnetwork) (5.9.0)\n",
      "Requirement already satisfied: comm>=0.1.1 in c:\\users\\hamza sami\\anaconda3\\lib\\site-packages (from ipykernel>=4.5.1->ipywidgets<8,>=7->skillsnetwork) (0.1.2)\n",
      "Requirement already satisfied: nest-asyncio in c:\\users\\hamza sami\\anaconda3\\lib\\site-packages (from ipykernel>=4.5.1->ipywidgets<8,>=7->skillsnetwork) (1.5.6)\n",
      "Requirement already satisfied: tornado>=6.1 in c:\\users\\hamza sami\\anaconda3\\lib\\site-packages (from ipykernel>=4.5.1->ipywidgets<8,>=7->skillsnetwork) (6.1)\n",
      "Requirement already satisfied: debugpy>=1.0 in c:\\users\\hamza sami\\anaconda3\\lib\\site-packages (from ipykernel>=4.5.1->ipywidgets<8,>=7->skillsnetwork) (1.5.1)\n",
      "Requirement already satisfied: jupyter-client>=6.1.12 in c:\\users\\hamza sami\\anaconda3\\lib\\site-packages (from ipykernel>=4.5.1->ipywidgets<8,>=7->skillsnetwork) (7.3.4)\n",
      "Requirement already satisfied: pyzmq>=17 in c:\\users\\hamza sami\\anaconda3\\lib\\site-packages (from ipykernel>=4.5.1->ipywidgets<8,>=7->skillsnetwork) (23.2.0)\n",
      "Requirement already satisfied: parso<0.9.0,>=0.8.0 in c:\\users\\hamza sami\\anaconda3\\lib\\site-packages (from jedi>=0.16->ipython->skillsnetwork) (0.8.3)\n",
      "Requirement already satisfied: jupyter-core in c:\\users\\hamza sami\\anaconda3\\lib\\site-packages (from nbformat>=4.2.0->ipywidgets<8,>=7->skillsnetwork) (5.2.0)\n",
      "Requirement already satisfied: jsonschema>=2.6 in c:\\users\\hamza sami\\anaconda3\\lib\\site-packages (from nbformat>=4.2.0->ipywidgets<8,>=7->skillsnetwork) (4.17.3)\n",
      "Requirement already satisfied: fastjsonschema in c:\\users\\hamza sami\\anaconda3\\lib\\site-packages (from nbformat>=4.2.0->ipywidgets<8,>=7->skillsnetwork) (2.16.2)\n",
      "Requirement already satisfied: wcwidth in c:\\users\\hamza sami\\anaconda3\\lib\\site-packages (from prompt-toolkit<3.1.0,>=3.0.30->ipython->skillsnetwork) (0.2.5)\n",
      "Requirement already satisfied: notebook>=4.4.1 in c:\\users\\hamza sami\\anaconda3\\lib\\site-packages (from widgetsnbextension~=3.5.0->ipywidgets<8,>=7->skillsnetwork) (6.5.2)\n",
      "Requirement already satisfied: asttokens in c:\\users\\hamza sami\\anaconda3\\lib\\site-packages (from stack-data->ipython->skillsnetwork) (2.0.5)\n",
      "Requirement already satisfied: executing in c:\\users\\hamza sami\\anaconda3\\lib\\site-packages (from stack-data->ipython->skillsnetwork) (0.8.3)\n",
      "Requirement already satisfied: pure-eval in c:\\users\\hamza sami\\anaconda3\\lib\\site-packages (from stack-data->ipython->skillsnetwork) (0.2.2)\n",
      "Requirement already satisfied: attrs>=17.4.0 in c:\\users\\hamza sami\\anaconda3\\lib\\site-packages (from jsonschema>=2.6->nbformat>=4.2.0->ipywidgets<8,>=7->skillsnetwork) (22.1.0)\n",
      "Requirement already satisfied: pyrsistent!=0.17.0,!=0.17.1,!=0.17.2,>=0.14.0 in c:\\users\\hamza sami\\anaconda3\\lib\\site-packages (from jsonschema>=2.6->nbformat>=4.2.0->ipywidgets<8,>=7->skillsnetwork) (0.18.0)\n",
      "Requirement already satisfied: entrypoints in c:\\users\\hamza sami\\anaconda3\\lib\\site-packages (from jupyter-client>=6.1.12->ipykernel>=4.5.1->ipywidgets<8,>=7->skillsnetwork) (0.4)\n",
      "Requirement already satisfied: platformdirs>=2.5 in c:\\users\\hamza sami\\anaconda3\\lib\\site-packages (from jupyter-core->nbformat>=4.2.0->ipywidgets<8,>=7->skillsnetwork) (2.5.2)\n",
      "Requirement already satisfied: pywin32>=1.0 in c:\\users\\hamza sami\\anaconda3\\lib\\site-packages (from jupyter-core->nbformat>=4.2.0->ipywidgets<8,>=7->skillsnetwork) (305.1)\n",
      "Requirement already satisfied: argon2-cffi in c:\\users\\hamza sami\\anaconda3\\lib\\site-packages (from notebook>=4.4.1->widgetsnbextension~=3.5.0->ipywidgets<8,>=7->skillsnetwork) (21.3.0)\n",
      "Requirement already satisfied: terminado>=0.8.3 in c:\\users\\hamza sami\\anaconda3\\lib\\site-packages (from notebook>=4.4.1->widgetsnbextension~=3.5.0->ipywidgets<8,>=7->skillsnetwork) (0.17.1)\n",
      "Requirement already satisfied: nbclassic>=0.4.7 in c:\\users\\hamza sami\\anaconda3\\lib\\site-packages (from notebook>=4.4.1->widgetsnbextension~=3.5.0->ipywidgets<8,>=7->skillsnetwork) (0.5.2)\n",
      "Requirement already satisfied: prometheus-client in c:\\users\\hamza sami\\anaconda3\\lib\\site-packages (from notebook>=4.4.1->widgetsnbextension~=3.5.0->ipywidgets<8,>=7->skillsnetwork) (0.14.1)\n",
      "Requirement already satisfied: jinja2 in c:\\users\\hamza sami\\anaconda3\\lib\\site-packages (from notebook>=4.4.1->widgetsnbextension~=3.5.0->ipywidgets<8,>=7->skillsnetwork) (3.1.2)\n",
      "Requirement already satisfied: Send2Trash>=1.8.0 in c:\\users\\hamza sami\\anaconda3\\lib\\site-packages (from notebook>=4.4.1->widgetsnbextension~=3.5.0->ipywidgets<8,>=7->skillsnetwork) (1.8.0)\n",
      "Requirement already satisfied: nbconvert>=5 in c:\\users\\hamza sami\\anaconda3\\lib\\site-packages (from notebook>=4.4.1->widgetsnbextension~=3.5.0->ipywidgets<8,>=7->skillsnetwork) (6.5.4)\n",
      "Requirement already satisfied: notebook-shim>=0.1.0 in c:\\users\\hamza sami\\anaconda3\\lib\\site-packages (from nbclassic>=0.4.7->notebook>=4.4.1->widgetsnbextension~=3.5.0->ipywidgets<8,>=7->skillsnetwork) (0.2.2)\n",
      "Requirement already satisfied: jupyter-server>=1.8 in c:\\users\\hamza sami\\anaconda3\\lib\\site-packages (from nbclassic>=0.4.7->notebook>=4.4.1->widgetsnbextension~=3.5.0->ipywidgets<8,>=7->skillsnetwork) (1.23.4)\n",
      "Requirement already satisfied: defusedxml in c:\\users\\hamza sami\\anaconda3\\lib\\site-packages (from nbconvert>=5->notebook>=4.4.1->widgetsnbextension~=3.5.0->ipywidgets<8,>=7->skillsnetwork) (0.7.1)\n",
      "Requirement already satisfied: pandocfilters>=1.4.1 in c:\\users\\hamza sami\\anaconda3\\lib\\site-packages (from nbconvert>=5->notebook>=4.4.1->widgetsnbextension~=3.5.0->ipywidgets<8,>=7->skillsnetwork) (1.5.0)\n",
      "Requirement already satisfied: bleach in c:\\users\\hamza sami\\anaconda3\\lib\\site-packages (from nbconvert>=5->notebook>=4.4.1->widgetsnbextension~=3.5.0->ipywidgets<8,>=7->skillsnetwork) (4.1.0)\n",
      "Requirement already satisfied: lxml in c:\\users\\hamza sami\\anaconda3\\lib\\site-packages (from nbconvert>=5->notebook>=4.4.1->widgetsnbextension~=3.5.0->ipywidgets<8,>=7->skillsnetwork) (4.9.1)\n",
      "Requirement already satisfied: mistune<2,>=0.8.1 in c:\\users\\hamza sami\\anaconda3\\lib\\site-packages (from nbconvert>=5->notebook>=4.4.1->widgetsnbextension~=3.5.0->ipywidgets<8,>=7->skillsnetwork) (0.8.4)\n",
      "Requirement already satisfied: jupyterlab-pygments in c:\\users\\hamza sami\\anaconda3\\lib\\site-packages (from nbconvert>=5->notebook>=4.4.1->widgetsnbextension~=3.5.0->ipywidgets<8,>=7->skillsnetwork) (0.1.2)\n",
      "Requirement already satisfied: tinycss2 in c:\\users\\hamza sami\\anaconda3\\lib\\site-packages (from nbconvert>=5->notebook>=4.4.1->widgetsnbextension~=3.5.0->ipywidgets<8,>=7->skillsnetwork) (1.2.1)\n",
      "Requirement already satisfied: nbclient>=0.5.0 in c:\\users\\hamza sami\\anaconda3\\lib\\site-packages (from nbconvert>=5->notebook>=4.4.1->widgetsnbextension~=3.5.0->ipywidgets<8,>=7->skillsnetwork) (0.5.13)\n",
      "Requirement already satisfied: MarkupSafe>=2.0 in c:\\users\\hamza sami\\anaconda3\\lib\\site-packages (from nbconvert>=5->notebook>=4.4.1->widgetsnbextension~=3.5.0->ipywidgets<8,>=7->skillsnetwork) (2.1.1)\n",
      "Requirement already satisfied: beautifulsoup4 in c:\\users\\hamza sami\\anaconda3\\lib\\site-packages (from nbconvert>=5->notebook>=4.4.1->widgetsnbextension~=3.5.0->ipywidgets<8,>=7->skillsnetwork) (4.11.1)\n",
      "Requirement already satisfied: pywinpty>=1.1.0 in c:\\users\\hamza sami\\anaconda3\\lib\\site-packages (from terminado>=0.8.3->notebook>=4.4.1->widgetsnbextension~=3.5.0->ipywidgets<8,>=7->skillsnetwork) (2.0.10)\n",
      "Requirement already satisfied: argon2-cffi-bindings in c:\\users\\hamza sami\\anaconda3\\lib\\site-packages (from argon2-cffi->notebook>=4.4.1->widgetsnbextension~=3.5.0->ipywidgets<8,>=7->skillsnetwork) (21.2.0)\n",
      "Requirement already satisfied: websocket-client in c:\\users\\hamza sami\\anaconda3\\lib\\site-packages (from jupyter-server>=1.8->nbclassic>=0.4.7->notebook>=4.4.1->widgetsnbextension~=3.5.0->ipywidgets<8,>=7->skillsnetwork) (0.58.0)\n",
      "Requirement already satisfied: anyio<4,>=3.1.0 in c:\\users\\hamza sami\\anaconda3\\lib\\site-packages (from jupyter-server>=1.8->nbclassic>=0.4.7->notebook>=4.4.1->widgetsnbextension~=3.5.0->ipywidgets<8,>=7->skillsnetwork) (3.5.0)\n",
      "Requirement already satisfied: cffi>=1.0.1 in c:\\users\\hamza sami\\anaconda3\\lib\\site-packages (from argon2-cffi-bindings->argon2-cffi->notebook>=4.4.1->widgetsnbextension~=3.5.0->ipywidgets<8,>=7->skillsnetwork) (1.15.1)\n",
      "Requirement already satisfied: soupsieve>1.2 in c:\\users\\hamza sami\\anaconda3\\lib\\site-packages (from beautifulsoup4->nbconvert>=5->notebook>=4.4.1->widgetsnbextension~=3.5.0->ipywidgets<8,>=7->skillsnetwork) (2.3.2.post1)\n",
      "Requirement already satisfied: webencodings in c:\\users\\hamza sami\\anaconda3\\lib\\site-packages (from bleach->nbconvert>=5->notebook>=4.4.1->widgetsnbextension~=3.5.0->ipywidgets<8,>=7->skillsnetwork) (0.5.1)\n",
      "Requirement already satisfied: sniffio>=1.1 in c:\\users\\hamza sami\\anaconda3\\lib\\site-packages (from anyio<4,>=3.1.0->jupyter-server>=1.8->nbclassic>=0.4.7->notebook>=4.4.1->widgetsnbextension~=3.5.0->ipywidgets<8,>=7->skillsnetwork) (1.2.0)\n",
      "Requirement already satisfied: pycparser in c:\\users\\hamza sami\\anaconda3\\lib\\site-packages (from cffi>=1.0.1->argon2-cffi-bindings->argon2-cffi->notebook>=4.4.1->widgetsnbextension~=3.5.0->ipywidgets<8,>=7->skillsnetwork) (2.21)\n"
     ]
    }
   ],
   "source": [
    "# Surpress warnings:\n",
    "def warn(*args, **kwargs):\n",
    "    pass\n",
    "import warnings\n",
    "warnings.warn = warn\n",
    "\n",
    "!pip install ipython-sql\n",
    "import sqlite3\n",
    "!pip install tqdm seaborn skillsnetwork pandas numpy scikit-learn\n",
    "\n",
    "import pandas as pd\n",
    "import numpy as np\n",
    "import matplotlib.pyplot as plt\n",
    "\n",
    "URL = r\"C:\\Users\\Hamza Sami\\Desktop\\boston crime dataset sql\\churn.csv\"\n",
    "\n",
    "data = pd.read_csv(URL)\n"
   ]
  },
  {
   "cell_type": "code",
   "execution_count": 2,
   "id": "0f908683",
   "metadata": {},
   "outputs": [
    {
     "data": {
      "text/html": [
       "<div>\n",
       "<style scoped>\n",
       "    .dataframe tbody tr th:only-of-type {\n",
       "        vertical-align: middle;\n",
       "    }\n",
       "\n",
       "    .dataframe tbody tr th {\n",
       "        vertical-align: top;\n",
       "    }\n",
       "\n",
       "    .dataframe thead th {\n",
       "        text-align: right;\n",
       "    }\n",
       "</style>\n",
       "<table border=\"1\" class=\"dataframe\">\n",
       "  <thead>\n",
       "    <tr style=\"text-align: right;\">\n",
       "      <th></th>\n",
       "      <th>customerID</th>\n",
       "      <th>gender</th>\n",
       "      <th>SeniorCitizen</th>\n",
       "      <th>Partner</th>\n",
       "      <th>Dependents</th>\n",
       "      <th>tenure</th>\n",
       "      <th>PhoneService</th>\n",
       "      <th>MultipleLines</th>\n",
       "      <th>InternetService</th>\n",
       "      <th>OnlineSecurity</th>\n",
       "      <th>...</th>\n",
       "      <th>DeviceProtection</th>\n",
       "      <th>TechSupport</th>\n",
       "      <th>StreamingTV</th>\n",
       "      <th>StreamingMovies</th>\n",
       "      <th>Contract</th>\n",
       "      <th>PaperlessBilling</th>\n",
       "      <th>PaymentMethod</th>\n",
       "      <th>MonthlyCharges</th>\n",
       "      <th>TotalCharges</th>\n",
       "      <th>Churn</th>\n",
       "    </tr>\n",
       "  </thead>\n",
       "  <tbody>\n",
       "    <tr>\n",
       "      <th>0</th>\n",
       "      <td>7590-VHVEG</td>\n",
       "      <td>Female</td>\n",
       "      <td>0</td>\n",
       "      <td>Yes</td>\n",
       "      <td>No</td>\n",
       "      <td>1</td>\n",
       "      <td>No</td>\n",
       "      <td>No phone service</td>\n",
       "      <td>DSL</td>\n",
       "      <td>No</td>\n",
       "      <td>...</td>\n",
       "      <td>No</td>\n",
       "      <td>No</td>\n",
       "      <td>No</td>\n",
       "      <td>No</td>\n",
       "      <td>Month-to-month</td>\n",
       "      <td>Yes</td>\n",
       "      <td>Electronic check</td>\n",
       "      <td>29.85</td>\n",
       "      <td>29.85</td>\n",
       "      <td>No</td>\n",
       "    </tr>\n",
       "    <tr>\n",
       "      <th>1</th>\n",
       "      <td>5575-GNVDE</td>\n",
       "      <td>Male</td>\n",
       "      <td>0</td>\n",
       "      <td>No</td>\n",
       "      <td>No</td>\n",
       "      <td>34</td>\n",
       "      <td>Yes</td>\n",
       "      <td>No</td>\n",
       "      <td>DSL</td>\n",
       "      <td>Yes</td>\n",
       "      <td>...</td>\n",
       "      <td>Yes</td>\n",
       "      <td>No</td>\n",
       "      <td>No</td>\n",
       "      <td>No</td>\n",
       "      <td>One year</td>\n",
       "      <td>No</td>\n",
       "      <td>Mailed check</td>\n",
       "      <td>56.95</td>\n",
       "      <td>1889.5</td>\n",
       "      <td>No</td>\n",
       "    </tr>\n",
       "    <tr>\n",
       "      <th>2</th>\n",
       "      <td>3668-QPYBK</td>\n",
       "      <td>Male</td>\n",
       "      <td>0</td>\n",
       "      <td>No</td>\n",
       "      <td>No</td>\n",
       "      <td>2</td>\n",
       "      <td>Yes</td>\n",
       "      <td>No</td>\n",
       "      <td>DSL</td>\n",
       "      <td>Yes</td>\n",
       "      <td>...</td>\n",
       "      <td>No</td>\n",
       "      <td>No</td>\n",
       "      <td>No</td>\n",
       "      <td>No</td>\n",
       "      <td>Month-to-month</td>\n",
       "      <td>Yes</td>\n",
       "      <td>Mailed check</td>\n",
       "      <td>53.85</td>\n",
       "      <td>108.15</td>\n",
       "      <td>Yes</td>\n",
       "    </tr>\n",
       "    <tr>\n",
       "      <th>3</th>\n",
       "      <td>7795-CFOCW</td>\n",
       "      <td>Male</td>\n",
       "      <td>0</td>\n",
       "      <td>No</td>\n",
       "      <td>No</td>\n",
       "      <td>45</td>\n",
       "      <td>No</td>\n",
       "      <td>No phone service</td>\n",
       "      <td>DSL</td>\n",
       "      <td>Yes</td>\n",
       "      <td>...</td>\n",
       "      <td>Yes</td>\n",
       "      <td>Yes</td>\n",
       "      <td>No</td>\n",
       "      <td>No</td>\n",
       "      <td>One year</td>\n",
       "      <td>No</td>\n",
       "      <td>Bank transfer (automatic)</td>\n",
       "      <td>42.30</td>\n",
       "      <td>1840.75</td>\n",
       "      <td>No</td>\n",
       "    </tr>\n",
       "    <tr>\n",
       "      <th>4</th>\n",
       "      <td>9237-HQITU</td>\n",
       "      <td>Female</td>\n",
       "      <td>0</td>\n",
       "      <td>No</td>\n",
       "      <td>No</td>\n",
       "      <td>2</td>\n",
       "      <td>Yes</td>\n",
       "      <td>No</td>\n",
       "      <td>Fiber optic</td>\n",
       "      <td>No</td>\n",
       "      <td>...</td>\n",
       "      <td>No</td>\n",
       "      <td>No</td>\n",
       "      <td>No</td>\n",
       "      <td>No</td>\n",
       "      <td>Month-to-month</td>\n",
       "      <td>Yes</td>\n",
       "      <td>Electronic check</td>\n",
       "      <td>70.70</td>\n",
       "      <td>151.65</td>\n",
       "      <td>Yes</td>\n",
       "    </tr>\n",
       "  </tbody>\n",
       "</table>\n",
       "<p>5 rows × 21 columns</p>\n",
       "</div>"
      ],
      "text/plain": [
       "   customerID  gender  SeniorCitizen Partner Dependents  tenure PhoneService  \\\n",
       "0  7590-VHVEG  Female              0     Yes         No       1           No   \n",
       "1  5575-GNVDE    Male              0      No         No      34          Yes   \n",
       "2  3668-QPYBK    Male              0      No         No       2          Yes   \n",
       "3  7795-CFOCW    Male              0      No         No      45           No   \n",
       "4  9237-HQITU  Female              0      No         No       2          Yes   \n",
       "\n",
       "      MultipleLines InternetService OnlineSecurity  ... DeviceProtection  \\\n",
       "0  No phone service             DSL             No  ...               No   \n",
       "1                No             DSL            Yes  ...              Yes   \n",
       "2                No             DSL            Yes  ...               No   \n",
       "3  No phone service             DSL            Yes  ...              Yes   \n",
       "4                No     Fiber optic             No  ...               No   \n",
       "\n",
       "  TechSupport StreamingTV StreamingMovies        Contract PaperlessBilling  \\\n",
       "0          No          No              No  Month-to-month              Yes   \n",
       "1          No          No              No        One year               No   \n",
       "2          No          No              No  Month-to-month              Yes   \n",
       "3         Yes          No              No        One year               No   \n",
       "4          No          No              No  Month-to-month              Yes   \n",
       "\n",
       "               PaymentMethod MonthlyCharges  TotalCharges Churn  \n",
       "0           Electronic check          29.85         29.85    No  \n",
       "1               Mailed check          56.95        1889.5    No  \n",
       "2               Mailed check          53.85        108.15   Yes  \n",
       "3  Bank transfer (automatic)          42.30       1840.75    No  \n",
       "4           Electronic check          70.70        151.65   Yes  \n",
       "\n",
       "[5 rows x 21 columns]"
      ]
     },
     "execution_count": 2,
     "metadata": {},
     "output_type": "execute_result"
    }
   ],
   "source": [
    "data.head()"
   ]
  },
  {
   "cell_type": "code",
   "execution_count": 134,
   "id": "5e68e89e",
   "metadata": {},
   "outputs": [
    {
     "data": {
      "text/plain": [
       "(7043, 21)"
      ]
     },
     "execution_count": 134,
     "metadata": {},
     "output_type": "execute_result"
    }
   ],
   "source": [
    "# No of rows and columns in our dataset\n",
    "data.shape"
   ]
  },
  {
   "cell_type": "code",
   "execution_count": 135,
   "id": "de835d84",
   "metadata": {},
   "outputs": [
    {
     "data": {
      "text/plain": [
       "Index(['customerID', 'gender', 'SeniorCitizen', 'Partner', 'Dependents',\n",
       "       'tenure', 'PhoneService', 'MultipleLines', 'InternetService',\n",
       "       'OnlineSecurity', 'OnlineBackup', 'DeviceProtection', 'TechSupport',\n",
       "       'StreamingTV', 'StreamingMovies', 'Contract', 'PaperlessBilling',\n",
       "       'PaymentMethod', 'MonthlyCharges', 'TotalCharges', 'Churn'],\n",
       "      dtype='object')"
      ]
     },
     "execution_count": 135,
     "metadata": {},
     "output_type": "execute_result"
    }
   ],
   "source": [
    "#lets look at our columns\n",
    "\n",
    "data.columns"
   ]
  },
  {
   "cell_type": "markdown",
   "id": "25851644",
   "metadata": {},
   "source": [
    "## Data Cleaning and Feature Extraction"
   ]
  },
  {
   "cell_type": "markdown",
   "id": "03c23299",
   "metadata": {},
   "source": [
    "Lets look if our data has any null/duplicate values, or even outliers\n",
    "wchich may result in incorrecet analysis and model bulding"
   ]
  },
  {
   "cell_type": "code",
   "execution_count": 4,
   "id": "6206e7b3",
   "metadata": {},
   "outputs": [
    {
     "data": {
      "text/plain": [
       "customerID           object\n",
       "gender               object\n",
       "SeniorCitizen         int64\n",
       "Partner              object\n",
       "Dependents           object\n",
       "tenure                int64\n",
       "PhoneService         object\n",
       "MultipleLines        object\n",
       "InternetService      object\n",
       "OnlineSecurity       object\n",
       "OnlineBackup         object\n",
       "DeviceProtection     object\n",
       "TechSupport          object\n",
       "StreamingTV          object\n",
       "StreamingMovies      object\n",
       "Contract             object\n",
       "PaperlessBilling     object\n",
       "PaymentMethod        object\n",
       "MonthlyCharges      float64\n",
       "TotalCharges         object\n",
       "Churn                object\n",
       "dtype: object"
      ]
     },
     "execution_count": 4,
     "metadata": {},
     "output_type": "execute_result"
    }
   ],
   "source": [
    "#Check datatypes of features\n",
    "data.dtypes"
   ]
  },
  {
   "cell_type": "code",
   "execution_count": 136,
   "id": "d6570da2",
   "metadata": {},
   "outputs": [],
   "source": [
    "#check for duplicate rows\n",
    "\n",
    "duplicated_rows = data[data.duplicated(['customerID'], keep=False)]\n"
   ]
  },
  {
   "cell_type": "code",
   "execution_count": 6,
   "id": "4208e872",
   "metadata": {},
   "outputs": [
    {
     "data": {
      "text/plain": [
       "customerID          0\n",
       "DeviceProtection    0\n",
       "TotalCharges        0\n",
       "MonthlyCharges      0\n",
       "PaymentMethod       0\n",
       "PaperlessBilling    0\n",
       "Contract            0\n",
       "StreamingMovies     0\n",
       "StreamingTV         0\n",
       "TechSupport         0\n",
       "OnlineBackup        0\n",
       "gender              0\n",
       "OnlineSecurity      0\n",
       "InternetService     0\n",
       "MultipleLines       0\n",
       "PhoneService        0\n",
       "tenure              0\n",
       "Dependents          0\n",
       "Partner             0\n",
       "SeniorCitizen       0\n",
       "Churn               0\n",
       "dtype: int64"
      ]
     },
     "execution_count": 6,
     "metadata": {},
     "output_type": "execute_result"
    }
   ],
   "source": [
    "# Check for null values\n",
    "\n",
    "data.isnull().sum().sort_values(ascending=False)"
   ]
  },
  {
   "cell_type": "code",
   "execution_count": 137,
   "id": "a274e11b",
   "metadata": {},
   "outputs": [],
   "source": [
    "# Drop the custoemr id column as it dosent have any relation with cusomter churn\n",
    "data.drop(columns='customerID', inplace=True)\n"
   ]
  },
  {
   "cell_type": "code",
   "execution_count": 138,
   "id": "50190e0b",
   "metadata": {},
   "outputs": [
    {
     "name": "stdout",
     "output_type": "stream",
     "text": [
      "gender\n",
      "Male      50.47565\n",
      "Female    49.52435\n",
      "Name: gender, dtype: float64\n",
      "SeniorCitizen\n",
      "0    83.785319\n",
      "1    16.214681\n",
      "Name: SeniorCitizen, dtype: float64\n",
      "Partner\n",
      "No     51.69672\n",
      "Yes    48.30328\n",
      "Name: Partner, dtype: float64\n",
      "Dependents\n",
      "No     70.041176\n",
      "Yes    29.958824\n",
      "Name: Dependents, dtype: float64\n",
      "tenure\n",
      "1     8.703677\n",
      "72    5.139855\n",
      "2     3.379242\n",
      "3     2.839699\n",
      "4     2.498935\n",
      "        ...   \n",
      "28    0.809314\n",
      "39    0.795116\n",
      "44    0.724123\n",
      "36    0.709925\n",
      "0     0.156183\n",
      "Name: tenure, Length: 73, dtype: float64\n",
      "PhoneService\n",
      "Yes    90.316626\n",
      "No      9.683374\n",
      "Name: PhoneService, dtype: float64\n",
      "MultipleLines\n",
      "No                  48.132898\n",
      "Yes                 42.183729\n",
      "No phone service     9.683374\n",
      "Name: MultipleLines, dtype: float64\n",
      "InternetService\n",
      "Fiber optic    43.958540\n",
      "DSL            34.374556\n",
      "No             21.666903\n",
      "Name: InternetService, dtype: float64\n",
      "OnlineSecurity\n",
      "No                     49.666335\n",
      "Yes                    28.666761\n",
      "No internet service    21.666903\n",
      "Name: OnlineSecurity, dtype: float64\n",
      "OnlineBackup\n",
      "No                     43.844952\n",
      "Yes                    34.488144\n",
      "No internet service    21.666903\n",
      "Name: OnlineBackup, dtype: float64\n",
      "DeviceProtection\n",
      "No                     43.944342\n",
      "Yes                    34.388755\n",
      "No internet service    21.666903\n",
      "Name: DeviceProtection, dtype: float64\n",
      "TechSupport\n",
      "No                     49.311373\n",
      "Yes                    29.021724\n",
      "No internet service    21.666903\n",
      "Name: TechSupport, dtype: float64\n",
      "StreamingTV\n",
      "No                     39.897771\n",
      "Yes                    38.435326\n",
      "No internet service    21.666903\n",
      "Name: StreamingTV, dtype: float64\n",
      "StreamingMovies\n",
      "No                     39.542808\n",
      "Yes                    38.790288\n",
      "No internet service    21.666903\n",
      "Name: StreamingMovies, dtype: float64\n",
      "Contract\n",
      "Month-to-month    55.019168\n",
      "Two year          24.066449\n",
      "One year          20.914383\n",
      "Name: Contract, dtype: float64\n",
      "PaperlessBilling\n",
      "Yes    59.221922\n",
      "No     40.778078\n",
      "Name: PaperlessBilling, dtype: float64\n",
      "PaymentMethod\n",
      "Electronic check             33.579441\n",
      "Mailed check                 22.887974\n",
      "Bank transfer (automatic)    21.922476\n",
      "Credit card (automatic)      21.610109\n",
      "Name: PaymentMethod, dtype: float64\n",
      "MonthlyCharges\n",
      "20.05     0.866108\n",
      "19.85     0.638932\n",
      "19.95     0.624734\n",
      "19.90     0.624734\n",
      "20.00     0.610535\n",
      "            ...   \n",
      "23.65     0.014198\n",
      "114.70    0.014198\n",
      "43.65     0.014198\n",
      "87.80     0.014198\n",
      "78.70     0.014198\n",
      "Name: MonthlyCharges, Length: 1585, dtype: float64\n",
      "TotalCharges\n",
      "          0.156183\n",
      "20.2      0.156183\n",
      "19.75     0.127786\n",
      "20.05     0.113588\n",
      "19.9      0.113588\n",
      "            ...   \n",
      "6849.4    0.014198\n",
      "692.35    0.014198\n",
      "130.15    0.014198\n",
      "3211.9    0.014198\n",
      "6844.5    0.014198\n",
      "Name: TotalCharges, Length: 6531, dtype: float64\n",
      "Churn\n",
      "No     73.463013\n",
      "Yes    26.536987\n",
      "Name: Churn, dtype: float64\n"
     ]
    }
   ],
   "source": [
    "# Percentage of each unique valuen in featues\n",
    "\n",
    "for column in data.columns:\n",
    "    print(column)\n",
    "    print (data[column].value_counts(normalize=True) * 100)\n",
    "    "
   ]
  },
  {
   "cell_type": "code",
   "execution_count": 2,
   "id": "a4badc35",
   "metadata": {},
   "outputs": [],
   "source": [
    "import numpy as np\n",
    "\n",
    "# Replace empty strings with NaN values in total charges column\n",
    "data['TotalCharges'] = data['TotalCharges'].replace(' ', np.nan)\n",
    "data.dropna(subset=['TotalCharges'], inplace=True)\n",
    "\n",
    "data['TotalCharges'] = data['TotalCharges'].astype(float)\n",
    "\n",
    "# Verify the revised number of values after removing empty values\n",
    "\n"
   ]
  },
  {
   "cell_type": "code",
   "execution_count": 6,
   "id": "5bc6611f",
   "metadata": {},
   "outputs": [
    {
     "data": {
      "text/plain": [
       "Text(0.5, 1.0, 'median number of procedures of MontylyCharges')"
      ]
     },
     "execution_count": 6,
     "metadata": {},
     "output_type": "execute_result"
    },
    {
     "data": {
      "image/png": "[encoded data removed]",
      "text/plain": [
       "<Figure size 1200x2000 with 2 Axes>"
      ]
     },
     "metadata": {},
     "output_type": "display_data"
    }
   ],
   "source": [
    "import seaborn as sns\n",
    "\n",
    "#boxplot for visualizing distribution and potential outliers in total and monthly charges\n",
    "\n",
    "plt.figure(figsize=(12, 20))\n",
    "\n",
    "plt.subplot(4,2,1)\n",
    "sns.boxplot(y='TotalCharges', data=data)\n",
    "plt.title('median of Total Charges')\n",
    "\n",
    "plt.subplot(4,2,2)\n",
    "sns.boxplot(y='MonthlyCharges', data=data)\n",
    "plt.title('median number of procedures of MontylyCharges')"
   ]
  },
  {
   "cell_type": "code",
   "execution_count": 142,
   "id": "d1828ee7",
   "metadata": {},
   "outputs": [
    {
     "data": {
      "image/png": "[encoded data removed]",
      "text/plain": [
       "<Figure size 600x400 with 1 Axes>"
      ]
     },
     "metadata": {},
     "output_type": "display_data"
    }
   ],
   "source": [
    "\n",
    "# Count the frequency of each gender as percentage\n",
    "plt.figure(figsize=(6, 4))\n",
    "gender_counts = data['gender'].value_counts(normalize=True)*100\n",
    "\n",
    "gender_counts.plot(kind='barh')\n",
    "\n",
    "plt.xlabel('Gender')\n",
    "plt.ylabel('percentage')\n",
    "plt.title('Gender Distribution')\n",
    "\n",
    "\n",
    "plt.show()\n"
   ]
  },
  {
   "cell_type": "code",
   "execution_count": 143,
   "id": "589b6a64",
   "metadata": {
    "scrolled": true
   },
   "outputs": [
    {
     "data": {
      "image/png": "[encoded data removed]",
      "text/plain": [
       "<Figure size 640x480 with 1 Axes>"
      ]
     },
     "metadata": {},
     "output_type": "display_data"
    }
   ],
   "source": [
    "\n",
    "#count of senior citizens and no senior citizens (churn vs non churn)\n",
    "sns.countplot(x='SeniorCitizen', data=data, hue='Churn')\n",
    "\n",
    "plt.xlabel('Senior Citizen')\n",
    "plt.ylabel('Count')\n",
    "plt.title('Senior Citizen Count')\n",
    "\n",
    "plt.show()\n"
   ]
  },
  {
   "cell_type": "code",
   "execution_count": 63,
   "id": "4c25fc7e",
   "metadata": {},
   "outputs": [
    {
     "data": {
      "text/html": [
       "<div>\n",
       "<style scoped>\n",
       "    .dataframe tbody tr th:only-of-type {\n",
       "        vertical-align: middle;\n",
       "    }\n",
       "\n",
       "    .dataframe tbody tr th {\n",
       "        vertical-align: top;\n",
       "    }\n",
       "\n",
       "    .dataframe thead th {\n",
       "        text-align: right;\n",
       "    }\n",
       "</style>\n",
       "<table border=\"1\" class=\"dataframe\">\n",
       "  <thead>\n",
       "    <tr style=\"text-align: right;\">\n",
       "      <th></th>\n",
       "      <th>Partner</th>\n",
       "      <th>Total</th>\n",
       "      <th>Churned</th>\n",
       "      <th>perc</th>\n",
       "    </tr>\n",
       "  </thead>\n",
       "  <tbody>\n",
       "    <tr>\n",
       "      <th>0</th>\n",
       "      <td>No</td>\n",
       "      <td>3639</td>\n",
       "      <td>1200</td>\n",
       "      <td>32.976092</td>\n",
       "    </tr>\n",
       "    <tr>\n",
       "      <th>1</th>\n",
       "      <td>Yes</td>\n",
       "      <td>3393</td>\n",
       "      <td>669</td>\n",
       "      <td>19.717065</td>\n",
       "    </tr>\n",
       "  </tbody>\n",
       "</table>\n",
       "</div>"
      ],
      "text/plain": [
       "  Partner  Total  Churned       perc\n",
       "0      No   3639     1200  32.976092\n",
       "1     Yes   3393      669  19.717065"
      ]
     },
     "execution_count": 63,
     "metadata": {},
     "output_type": "execute_result"
    }
   ],
   "source": [
    "partner.head()"
   ]
  },
  {
   "cell_type": "code",
   "execution_count": 26,
   "id": "c9d3bbcc",
   "metadata": {},
   "outputs": [
    {
     "data": {
      "image/png": "[encoded data removed]",
      "text/plain": [
       "<Figure size 1000x1800 with 3 Axes>"
      ]
     },
     "metadata": {},
     "output_type": "display_data"
    }
   ],
   "source": [
    "list1=['SeniorCitizen','Partner','Dependents']\n",
    "plt.figure(figsize=(10,18))\n",
    "for i, column in enumerate(list1,1):\n",
    "    plt.subplot(4,1,i)\n",
    "    c1=data.groupby(column)['Churn'].size()\n",
    "    c2 = data[data['Churn'] == 'Yes'].groupby(column).size()\n",
    "    c3=c2/c1 * 100\n",
    "    c3.plot(kind='barh',color='orange')\n",
    "    plt.title(column + ''+'percenttage of churning vs not churning')\n",
    "    plt.ylabel('Churn')\n",
    "    plt.xlabel('percentage')"
   ]
  },
  {
   "cell_type": "code",
   "execution_count": 27,
   "id": "2535c254",
   "metadata": {},
   "outputs": [
    {
     "data": {
      "image/png": "[encoded data removed]",
      "text/plain": [
       "<Figure size 1000x600 with 1 Axes>"
      ]
     },
     "metadata": {},
     "output_type": "display_data"
    }
   ],
   "source": [
    "df_tenure = data[data['Churn'] == 'Yes']['tenure']\n",
    "\n",
    "df_tenure.plot(kind='hist', figsize=(10, 6),bins=10,color='green')\n",
    "\n",
    "plt.title('Histogram of Tenure and Churn')\n",
    "plt.xlabel('Tenure')\n",
    "plt.ylabel('Count')\n",
    "\n",
    "plt.show()\n"
   ]
  },
  {
   "cell_type": "code",
   "execution_count": 257,
   "id": "2f5f9d1f",
   "metadata": {},
   "outputs": [
    {
     "data": {
      "text/plain": [
       "Text(0.5, 1.0, 'Churned')"
      ]
     },
     "execution_count": 257,
     "metadata": {},
     "output_type": "execute_result"
    },
    {
     "data": {
      "image/png": "[encoded data removed]",
      "text/plain": [
       "<Figure size 1200x2000 with 2 Axes>"
      ]
     },
     "metadata": {},
     "output_type": "display_data"
    }
   ],
   "source": [
    "\n",
    "#Median value in box plot for chunr vs not churn(Monthly Charges)\n",
    "\n",
    "Total_churn_box = data3[data3['Churn'] == 'Yes'][['MonthlyCharges']]\n",
    "No_churn=data[data3['Churn']=='No'][['MonthlyCharges']]\n",
    "avg_churn = data3.groupby('Churn')['MonthlyCharges'].mean().to_frame().reset_index()\n",
    "\n",
    "plt.figure(figsize=(12, 20))\n",
    "\n",
    "plt.subplot(4, 2, 1)\n",
    "sns.boxplot(y='MonthlyCharges', data=No_churn)\n",
    "plt.title('No_churn')\n",
    "\n",
    "plt.subplot(4, 2, 2)\n",
    "sns.boxplot(y='MonthlyCharges', data=Total_churn_box)\n",
    "plt.title('Churned')\n",
    "\n",
    "\n"
   ]
  },
  {
   "cell_type": "code",
   "execution_count": 208,
   "id": "73c2f34a",
   "metadata": {},
   "outputs": [
    {
     "data": {
      "image/png": "[encoded data removed]",
      "text/plain": [
       "<Figure size 700x400 with 1 Axes>"
      ]
     },
     "metadata": {},
     "output_type": "display_data"
    }
   ],
   "source": [
    "# Mean value of Churn vs not churn for monthly charges\n",
    "\n",
    "avg_churn.plot(kind='barh',figsize=(7,4),color='orange')\n",
    "plt.title('Mean of Monthly Charges of churn and not churn')\n",
    "plt.xlabel=('Churn?')\n",
    "plt.ylabel=('Percentage')\n",
    "plt.show()\n",
    "\n"
   ]
  },
  {
   "cell_type": "code",
   "execution_count": 220,
   "id": "5f5ae6fb",
   "metadata": {
    "scrolled": true
   },
   "outputs": [
    {
     "data": {
      "image/png": "[encoded data removed]",
      "text/plain": [
       "<Figure size 800x500 with 2 Axes>"
      ]
     },
     "metadata": {},
     "output_type": "display_data"
    }
   ],
   "source": [
    "\n",
    "data_corr=data.corr()\n",
    "# heatmap for visualizing corealtion with features and target variable\n",
    "plt.figure(figsize=(8, 5)) \n",
    "sns.heatmap(data_corr, annot=True, cmap='coolwarm')\n",
    "plt.title('Correlation Heatmap')\n",
    "plt.show()\n"
   ]
  },
  {
   "cell_type": "code",
   "execution_count": 258,
   "id": "5e3bcb55",
   "metadata": {},
   "outputs": [
    {
     "data": {
      "text/plain": [
       "gender               object\n",
       "SeniorCitizen         int64\n",
       "Partner              object\n",
       "Dependents           object\n",
       "tenure                int64\n",
       "PhoneService         object\n",
       "MultipleLines        object\n",
       "InternetService      object\n",
       "OnlineSecurity       object\n",
       "OnlineBackup         object\n",
       "DeviceProtection     object\n",
       "TechSupport          object\n",
       "StreamingTV          object\n",
       "StreamingMovies      object\n",
       "Contract             object\n",
       "PaperlessBilling     object\n",
       "PaymentMethod        object\n",
       "MonthlyCharges      float64\n",
       "TotalCharges        float64\n",
       "Churn                object\n",
       "dtype: object"
      ]
     },
     "execution_count": 258,
     "metadata": {},
     "output_type": "execute_result"
    }
   ],
   "source": [
    "data.dtypes"
   ]
  },
  {
   "cell_type": "markdown",
   "id": "8f521429",
   "metadata": {},
   "source": [
    "## Feature Engineering and Label Encoding "
   ]
  },
  {
   "cell_type": "markdown",
   "id": "54129c5f",
   "metadata": {},
   "source": [
    "Many features are still in object data type and contain string values. They will be needed to be converted to integer values, so that they can be processed by the machine learning algorithms"
   ]
  },
  {
   "cell_type": "code",
   "execution_count": 209,
   "id": "73504577",
   "metadata": {},
   "outputs": [],
   "source": [
    "# creating a copy of orignal dataframe, so we can recover it later incase of any problems in feature engineering end encoding\n",
    "data3=data.copy()"
   ]
  },
  {
   "cell_type": "code",
   "execution_count": 263,
   "id": "13229cbc",
   "metadata": {},
   "outputs": [],
   "source": [
    "#for all features replace 0,1 for yes or no values in orignal columns(including target label)\n",
    "\n",
    "for column in data.columns:\n",
    "    data[column]=data[column].replace(['Yes','No'],[1,0])"
   ]
  },
  {
   "cell_type": "code",
   "execution_count": 260,
   "id": "db56e230",
   "metadata": {},
   "outputs": [],
   "source": [
    "#adding all columns exccept target into list 1\n",
    "list1= ['gender', 'SeniorCitizen', 'Partner', 'Dependents', 'tenure',\n",
    "       'PhoneService', 'MultipleLines', 'InternetService', 'OnlineSecurity',\n",
    "       'OnlineBackup', 'DeviceProtection', 'TechSupport', 'StreamingTV',\n",
    "       'StreamingMovies', 'Contract', 'PaperlessBilling', 'PaymentMethod',\n",
    "       'MonthlyCharges', 'TotalCharges']"
   ]
  },
  {
   "cell_type": "code",
   "execution_count": 264,
   "id": "a3462ad8",
   "metadata": {},
   "outputs": [
    {
     "data": {
      "text/plain": [
       "No     73.421502\n",
       "Yes    26.578498\n",
       "Name: Churn, dtype: float64"
      ]
     },
     "execution_count": 264,
     "metadata": {},
     "output_type": "execute_result"
    }
   ],
   "source": [
    "#distribution of our target column after encoding into 0 and 1 (not churn vs churn)\n",
    "data3.Churn.value_counts(normalize=True)*100"
   ]
  },
  {
   "cell_type": "markdown",
   "id": "05b15787",
   "metadata": {},
   "source": [
    "Our target variable contains 25% values that are churned. Lets look what percentage of values in each feature are contributing most (in percentage wise) towards people who are churning"
   ]
  },
  {
   "cell_type": "code",
   "execution_count": 267,
   "id": "c8b4d389",
   "metadata": {},
   "outputs": [],
   "source": [
    "results=[]\n",
    "\n",
    "for column in list1:\n",
    "    r1=data.groupby(column)['Churn'].count().reset_index().rename(columns={'Churn':'Total'})\n",
    "    r2=data[data['Churn']==1].groupby(column).count().reset_index().rename(columns={'Churn':'Churned'})\n",
    "    result=pd.merge(r1,r2, on=column)\n",
    "    result['percentage_churned']=result['Churned']/result['Total'] * 100\n",
    "    results.append(result)\n",
    "    \n",
    "    "
   ]
  },
  {
   "cell_type": "markdown",
   "id": "30a1a2c2",
   "metadata": {},
   "source": [
    "Now we can see some values (in each column) have greater percentages of churning vs others(for eg like senior citizen). So this means if anyone is senior citizen it is '' likey he/she may churned as compared to no senior citizen who is '' likely to be churned\n",
    "This shows we can label encode such columns as they contain meaningfull analysis, and doing with their percentage invoolvment in churning would help the model to get the meaninful inromation as who is more likely to churn"
   ]
  },
  {
   "cell_type": "code",
   "execution_count": 276,
   "id": "bba16ed6",
   "metadata": {},
   "outputs": [
    {
     "name": "stdout",
     "output_type": "stream",
     "text": [
      "      gender  SeniorCitizen  Partner  Dependents  tenure  PhoneService  \\\n",
      "0        NaN            NaN      NaN         NaN     NaN           NaN   \n",
      "1        NaN            NaN      NaN         NaN     NaN           NaN   \n",
      "2        NaN            NaN      NaN         NaN     NaN           NaN   \n",
      "3        NaN            NaN      NaN         NaN     NaN           NaN   \n",
      "4        NaN            NaN      NaN         NaN     NaN           NaN   \n",
      "...      ...            ...      ...         ...     ...           ...   \n",
      "7038     NaN            NaN      NaN         NaN     NaN           NaN   \n",
      "7039     NaN            NaN      NaN         NaN     NaN           NaN   \n",
      "7040     NaN            NaN      NaN         NaN     NaN           NaN   \n",
      "7041     NaN            NaN      NaN         NaN     NaN           NaN   \n",
      "7042     NaN            NaN      NaN         NaN     NaN           NaN   \n",
      "\n",
      "      MultipleLines  InternetService  OnlineSecurity  OnlineBackup  \\\n",
      "0               NaN              NaN             NaN           NaN   \n",
      "1               NaN              NaN             NaN           NaN   \n",
      "2               NaN              NaN             NaN           NaN   \n",
      "3               NaN              NaN             NaN           NaN   \n",
      "4               NaN              NaN             NaN           NaN   \n",
      "...             ...              ...             ...           ...   \n",
      "7038            NaN              NaN             NaN           NaN   \n",
      "7039            NaN              NaN             NaN           NaN   \n",
      "7040            NaN              NaN             NaN           NaN   \n",
      "7041            NaN              NaN             NaN           NaN   \n",
      "7042            NaN              NaN             NaN           NaN   \n",
      "\n",
      "      DeviceProtection  TechSupport  StreamingTV  StreamingMovies  Contract  \\\n",
      "0                  NaN          NaN          NaN              NaN       NaN   \n",
      "1                  NaN          NaN          NaN              NaN       NaN   \n",
      "2                  NaN          NaN          NaN              NaN       NaN   \n",
      "3                  NaN          NaN          NaN              NaN       NaN   \n",
      "4                  NaN          NaN          NaN              NaN       NaN   \n",
      "...                ...          ...          ...              ...       ...   \n",
      "7038               NaN          NaN          NaN              NaN       NaN   \n",
      "7039               NaN          NaN          NaN              NaN       NaN   \n",
      "7040               NaN          NaN          NaN              NaN       NaN   \n",
      "7041               NaN          NaN          NaN              NaN       NaN   \n",
      "7042               NaN          NaN          NaN              NaN       NaN   \n",
      "\n",
      "      PaperlessBilling  PaymentMethod  MonthlyCharges  TotalCharges Churn  \n",
      "0                  NaN            NaN             NaN           NaN    No  \n",
      "1                  NaN            NaN             NaN           NaN    No  \n",
      "2                  NaN            NaN             NaN           NaN   Yes  \n",
      "3                  NaN            NaN             NaN           NaN    No  \n",
      "4                  NaN            NaN             NaN           NaN   Yes  \n",
      "...                ...            ...             ...           ...   ...  \n",
      "7038               NaN            NaN             NaN           NaN    No  \n",
      "7039               NaN            NaN             NaN           NaN    No  \n",
      "7040               NaN            NaN             NaN           NaN    No  \n",
      "7041               NaN            NaN             NaN           NaN   Yes  \n",
      "7042               NaN            NaN             NaN           NaN    No  \n",
      "\n",
      "[7032 rows x 20 columns]\n"
     ]
    }
   ],
   "source": [
    "results = []\n",
    "\n",
    "for column in list1:\n",
    "    r1 = data.groupby(column)['Churn'].count().reset_index().rename(columns={'Churn': 'total'})\n",
    "    r2 = data[data['Churn'] == 1].groupby(column)['Churn'].count().reset_index().rename(columns={'Churn': 'filtered'})\n",
    "    result = pd.merge(r1, r2, on=column)\n",
    "    result['percentage'] = (result['filtered'] / result['total']) * 100\n",
    "    result.sort_values('percentage', ascending=False, inplace=True)\n",
    "\n",
    "    # Replace the original column values with the percentage values\n",
    "    data[column] = data[column].map(result.set_index(column)['percentage'])\n",
    "\n",
    "    results.append(result)\n",
    "\n",
    "# Print the modified DataFrame\n",
    "print(data)\n"
   ]
  },
  {
   "cell_type": "code",
   "execution_count": 277,
   "id": "a8cbd6f9",
   "metadata": {},
   "outputs": [
    {
     "data": {
      "text/html": [
       "<div>\n",
       "<style scoped>\n",
       "    .dataframe tbody tr th:only-of-type {\n",
       "        vertical-align: middle;\n",
       "    }\n",
       "\n",
       "    .dataframe tbody tr th {\n",
       "        vertical-align: top;\n",
       "    }\n",
       "\n",
       "    .dataframe thead th {\n",
       "        text-align: right;\n",
       "    }\n",
       "</style>\n",
       "<table border=\"1\" class=\"dataframe\">\n",
       "  <thead>\n",
       "    <tr style=\"text-align: right;\">\n",
       "      <th></th>\n",
       "      <th>gender</th>\n",
       "      <th>SeniorCitizen</th>\n",
       "      <th>Partner</th>\n",
       "      <th>Dependents</th>\n",
       "      <th>tenure</th>\n",
       "      <th>PhoneService</th>\n",
       "      <th>MultipleLines</th>\n",
       "      <th>InternetService</th>\n",
       "      <th>OnlineSecurity</th>\n",
       "      <th>OnlineBackup</th>\n",
       "      <th>DeviceProtection</th>\n",
       "      <th>TechSupport</th>\n",
       "      <th>StreamingTV</th>\n",
       "      <th>StreamingMovies</th>\n",
       "      <th>Contract</th>\n",
       "      <th>PaperlessBilling</th>\n",
       "      <th>PaymentMethod</th>\n",
       "      <th>MonthlyCharges</th>\n",
       "      <th>TotalCharges</th>\n",
       "      <th>Churn</th>\n",
       "    </tr>\n",
       "  </thead>\n",
       "  <tbody>\n",
       "    <tr>\n",
       "      <th>0</th>\n",
       "      <td>26.959518</td>\n",
       "      <td>23.650255</td>\n",
       "      <td>19.717065</td>\n",
       "      <td>31.27914</td>\n",
       "      <td>61.990212</td>\n",
       "      <td>25.000000</td>\n",
       "      <td>25.000000</td>\n",
       "      <td>18.998344</td>\n",
       "      <td>41.778667</td>\n",
       "      <td>21.567010</td>\n",
       "      <td>39.140271</td>\n",
       "      <td>41.647465</td>\n",
       "      <td>33.535066</td>\n",
       "      <td>33.728875</td>\n",
       "      <td>42.709677</td>\n",
       "      <td>33.589251</td>\n",
       "      <td>45.285412</td>\n",
       "      <td>50.000000</td>\n",
       "      <td>0.0</td>\n",
       "      <td>0</td>\n",
       "    </tr>\n",
       "    <tr>\n",
       "      <th>1</th>\n",
       "      <td>26.204565</td>\n",
       "      <td>23.650255</td>\n",
       "      <td>32.976092</td>\n",
       "      <td>31.27914</td>\n",
       "      <td>18.461538</td>\n",
       "      <td>26.747481</td>\n",
       "      <td>25.081241</td>\n",
       "      <td>18.998344</td>\n",
       "      <td>14.640199</td>\n",
       "      <td>39.941691</td>\n",
       "      <td>22.539289</td>\n",
       "      <td>41.647465</td>\n",
       "      <td>33.535066</td>\n",
       "      <td>33.728875</td>\n",
       "      <td>11.277174</td>\n",
       "      <td>16.375698</td>\n",
       "      <td>19.201995</td>\n",
       "      <td>0.000000</td>\n",
       "      <td>0.0</td>\n",
       "      <td>0</td>\n",
       "    </tr>\n",
       "    <tr>\n",
       "      <th>2</th>\n",
       "      <td>26.204565</td>\n",
       "      <td>23.650255</td>\n",
       "      <td>32.976092</td>\n",
       "      <td>31.27914</td>\n",
       "      <td>51.680672</td>\n",
       "      <td>26.747481</td>\n",
       "      <td>25.081241</td>\n",
       "      <td>18.998344</td>\n",
       "      <td>14.640199</td>\n",
       "      <td>21.567010</td>\n",
       "      <td>39.140271</td>\n",
       "      <td>41.647465</td>\n",
       "      <td>33.535066</td>\n",
       "      <td>33.728875</td>\n",
       "      <td>42.709677</td>\n",
       "      <td>33.589251</td>\n",
       "      <td>19.201995</td>\n",
       "      <td>50.000000</td>\n",
       "      <td>100.0</td>\n",
       "      <td>1</td>\n",
       "    </tr>\n",
       "    <tr>\n",
       "      <th>3</th>\n",
       "      <td>26.204565</td>\n",
       "      <td>23.650255</td>\n",
       "      <td>32.976092</td>\n",
       "      <td>31.27914</td>\n",
       "      <td>9.836066</td>\n",
       "      <td>25.000000</td>\n",
       "      <td>25.000000</td>\n",
       "      <td>18.998344</td>\n",
       "      <td>14.640199</td>\n",
       "      <td>39.941691</td>\n",
       "      <td>22.539289</td>\n",
       "      <td>15.196078</td>\n",
       "      <td>33.535066</td>\n",
       "      <td>33.728875</td>\n",
       "      <td>11.277174</td>\n",
       "      <td>16.375698</td>\n",
       "      <td>16.731518</td>\n",
       "      <td>0.000000</td>\n",
       "      <td>0.0</td>\n",
       "      <td>0</td>\n",
       "    </tr>\n",
       "    <tr>\n",
       "      <th>4</th>\n",
       "      <td>26.959518</td>\n",
       "      <td>23.650255</td>\n",
       "      <td>32.976092</td>\n",
       "      <td>31.27914</td>\n",
       "      <td>51.680672</td>\n",
       "      <td>26.747481</td>\n",
       "      <td>25.081241</td>\n",
       "      <td>41.892765</td>\n",
       "      <td>41.778667</td>\n",
       "      <td>39.941691</td>\n",
       "      <td>39.140271</td>\n",
       "      <td>41.647465</td>\n",
       "      <td>33.535066</td>\n",
       "      <td>33.728875</td>\n",
       "      <td>42.709677</td>\n",
       "      <td>33.589251</td>\n",
       "      <td>45.285412</td>\n",
       "      <td>33.333333</td>\n",
       "      <td>100.0</td>\n",
       "      <td>1</td>\n",
       "    </tr>\n",
       "  </tbody>\n",
       "</table>\n",
       "</div>"
      ],
      "text/plain": [
       "      gender  SeniorCitizen    Partner  Dependents     tenure  PhoneService  \\\n",
       "0  26.959518      23.650255  19.717065    31.27914  61.990212     25.000000   \n",
       "1  26.204565      23.650255  32.976092    31.27914  18.461538     26.747481   \n",
       "2  26.204565      23.650255  32.976092    31.27914  51.680672     26.747481   \n",
       "3  26.204565      23.650255  32.976092    31.27914   9.836066     25.000000   \n",
       "4  26.959518      23.650255  32.976092    31.27914  51.680672     26.747481   \n",
       "\n",
       "   MultipleLines  InternetService  OnlineSecurity  OnlineBackup  \\\n",
       "0      25.000000        18.998344       41.778667     21.567010   \n",
       "1      25.081241        18.998344       14.640199     39.941691   \n",
       "2      25.081241        18.998344       14.640199     21.567010   \n",
       "3      25.000000        18.998344       14.640199     39.941691   \n",
       "4      25.081241        41.892765       41.778667     39.941691   \n",
       "\n",
       "   DeviceProtection  TechSupport  StreamingTV  StreamingMovies   Contract  \\\n",
       "0         39.140271    41.647465    33.535066        33.728875  42.709677   \n",
       "1         22.539289    41.647465    33.535066        33.728875  11.277174   \n",
       "2         39.140271    41.647465    33.535066        33.728875  42.709677   \n",
       "3         22.539289    15.196078    33.535066        33.728875  11.277174   \n",
       "4         39.140271    41.647465    33.535066        33.728875  42.709677   \n",
       "\n",
       "   PaperlessBilling  PaymentMethod  MonthlyCharges  TotalCharges  Churn  \n",
       "0         33.589251      45.285412       50.000000           0.0      0  \n",
       "1         16.375698      19.201995        0.000000           0.0      0  \n",
       "2         33.589251      19.201995       50.000000         100.0      1  \n",
       "3         16.375698      16.731518        0.000000           0.0      0  \n",
       "4         33.589251      45.285412       33.333333         100.0      1  "
      ]
     },
     "execution_count": 277,
     "metadata": {},
     "output_type": "execute_result"
    }
   ],
   "source": [
    "data.head()"
   ]
  },
  {
   "cell_type": "code",
   "execution_count": 244,
   "id": "6f46f687",
   "metadata": {},
   "outputs": [],
   "source": [
    "#Fill null value with 0 which may have been caused by mapping\n",
    "data.fillna(0, inplace=True)\n"
   ]
  },
  {
   "cell_type": "code",
   "execution_count": 243,
   "id": "72dd07c2",
   "metadata": {},
   "outputs": [],
   "source": [
    "data['TotalCharges'] = data['TotalCharges'].astype(float)\n"
   ]
  },
  {
   "cell_type": "code",
   "execution_count": 247,
   "id": "259496b7",
   "metadata": {
    "scrolled": true
   },
   "outputs": [
    {
     "data": {
      "text/plain": [
       "gender              float64\n",
       "SeniorCitizen       float64\n",
       "Partner             float64\n",
       "Dependents          float64\n",
       "tenure              float64\n",
       "PhoneService        float64\n",
       "MultipleLines       float64\n",
       "InternetService     float64\n",
       "OnlineSecurity      float64\n",
       "OnlineBackup        float64\n",
       "DeviceProtection    float64\n",
       "TechSupport         float64\n",
       "StreamingTV         float64\n",
       "StreamingMovies     float64\n",
       "Contract            float64\n",
       "PaperlessBilling    float64\n",
       "PaymentMethod       float64\n",
       "MonthlyCharges      float64\n",
       "TotalCharges        float64\n",
       "Churn                 int64\n",
       "dtype: object"
      ]
     },
     "execution_count": 247,
     "metadata": {},
     "output_type": "execute_result"
    }
   ],
   "source": [
    "data.dtypes"
   ]
  },
  {
   "cell_type": "markdown",
   "id": "b03d71e4",
   "metadata": {},
   "source": [
    "## Model Development"
   ]
  },
  {
   "cell_type": "markdown",
   "id": "6ccf9872",
   "metadata": {},
   "source": [
    "Now we can create our different machine learning models, and can check and compare their accuracies for predicting customer churn"
   ]
  },
  {
   "cell_type": "code",
   "execution_count": 282,
   "id": "62d40270",
   "metadata": {},
   "outputs": [
    {
     "data": {
      "text/plain": [
       "(7032, 19)"
      ]
     },
     "execution_count": 282,
     "metadata": {},
     "output_type": "execute_result"
    }
   ],
   "source": [
    "#Creating x and y for features and target label to use as inpiut and testing for ml models\n",
    "\n",
    "x=data.iloc[:,:-1] #all features except target label\n",
    "y=data.iloc[:,-1:] # only target label\n",
    "\n",
    "x.shape"
   ]
  },
  {
   "cell_type": "code",
   "execution_count": 251,
   "id": "ff6dd629",
   "metadata": {},
   "outputs": [],
   "source": [
    "from sklearn.preprocessing import MinMaxScaler, StandardScaler\n",
    "\n",
    "# Apply MinMaxScaler to x to scale values on a similar scale to avoid some features over effecting the model\n",
    "min_max_scaler = MinMaxScaler()\n",
    "x2= min_max_scaler.fit_transform(x)\n",
    "\n",
    "# Apply StandardScaler\n",
    "standard_scaler = StandardScaler()\n",
    "x3 = standard_scaler.fit_transform(x)"
   ]
  },
  {
   "cell_type": "code",
   "execution_count": 252,
   "id": "be712915",
   "metadata": {},
   "outputs": [],
   "source": [
    "from sklearn.model_selection import train_test_split\n",
    "\n",
    "# Perform train-test split for training and test datasets\n",
    "# stratify is to make sure we divide y in same ration as it was in original dataframe\n",
    "x_train, x_test, y_train, y_test = train_test_split(x2, y, test_size=0.3, random_state=123, stratify=y)\n"
   ]
  },
  {
   "cell_type": "code",
   "execution_count": 291,
   "id": "2ffc51c8",
   "metadata": {
    "scrolled": true
   },
   "outputs": [
    {
     "name": "stdout",
     "output_type": "stream",
     "text": [
      "Model: lr1\n",
      "Accuracy: 0.9838862559241706\n",
      "Classification Report:\n",
      "              precision    recall  f1-score   support\n",
      "\n",
      "           0       0.99      0.99      0.99      1549\n",
      "           1       0.98      0.96      0.97       561\n",
      "\n",
      "    accuracy                           0.98      2110\n",
      "   macro avg       0.98      0.98      0.98      2110\n",
      "weighted avg       0.98      0.98      0.98      2110\n",
      "\n",
      "\n",
      "Model: lr2\n",
      "Accuracy: 0.9829383886255925\n",
      "Classification Report:\n",
      "              precision    recall  f1-score   support\n",
      "\n",
      "           0       0.99      0.99      0.99      1549\n",
      "           1       0.97      0.96      0.97       561\n",
      "\n",
      "    accuracy                           0.98      2110\n",
      "   macro avg       0.98      0.98      0.98      2110\n",
      "weighted avg       0.98      0.98      0.98      2110\n",
      "\n",
      "\n",
      "Model: lr3\n",
      "Accuracy: 0.9834123222748815\n",
      "Classification Report:\n",
      "              precision    recall  f1-score   support\n",
      "\n",
      "           0       0.99      0.99      0.99      1549\n",
      "           1       0.98      0.96      0.97       561\n",
      "\n",
      "    accuracy                           0.98      2110\n",
      "   macro avg       0.98      0.98      0.98      2110\n",
      "weighted avg       0.98      0.98      0.98      2110\n",
      "\n",
      "\n"
     ]
    }
   ],
   "source": [
    "from sklearn.metrics import accuracy_score, classification_report\n",
    "from sklearn.linear_model import LogisticRegression, LogisticRegressionCV\n",
    "\n",
    "\n",
    "#Creating 3 linear models with diff hperparameters to check accuracy and classifaction report using loop\n",
    "lr1 = LogisticRegression(solver='liblinear')\n",
    "lr2 = LogisticRegressionCV(Cs=10, cv=4, solver='liblinear', penalty='l1')\n",
    "lr3 = LogisticRegressionCV(Cs=10, cv=4, solver='liblinear', penalty='l2')\n",
    "\n",
    "# Creating a list of linear models\n",
    "labels = ['lr1', 'lr2', 'lr3']\n",
    "models = [lr1, lr2, lr3]\n",
    "results = []\n",
    "\n",
    "for lab, mod in zip(labels, models): # loop for iterating over each linear model to calculate accuracy and classification report\n",
    "    mod.fit(x_train, y_train)\n",
    "    y_pred = mod.predict(x_test)\n",
    "    accuracy = accuracy_score(y_test, y_pred)\n",
    "    report = classification_report(y_test, y_pred)\n",
    "    results.append((lab, accuracy, report))\n",
    "\n",
    "for lab, acc, rep in results: # loop for printing the results \n",
    "    print('Model:', lab)\n",
    "    print('Accuracy:', acc)\n",
    "    print('Classification Report:')\n",
    "    print(rep)\n",
    "    print()\n"
   ]
  },
  {
   "cell_type": "code",
   "execution_count": null,
   "id": "48a46784",
   "metadata": {},
   "outputs": [],
   "source": [
    "from sklearn.metrics import confusion_matrix\n",
    "plt.figure(figsize=(10, 15))\n",
    "\n",
    "for i, mod in enumerate(models, 1):\n",
    "    plt.subplot(4, 2, i)\n",
    "    mod.fit(x_train, y_train)  # Use \"fit\" instead of \"train\" for model training\n",
    "    y_pred = mod.predict(x_test)\n",
    "    matrix = confusion_matrix(y_test, y_pred)\n",
    "    sns.heatmap(matrix, annot=True, fmt='d', cmap='Blues')\n",
    "    plt.tight_layout()\n",
    "\n",
    "plt.show()  \n"
   ]
  },
  {
   "cell_type": "code",
   "execution_count": 309,
   "id": "c621021d",
   "metadata": {},
   "outputs": [
    {
     "name": "stdout",
     "output_type": "stream",
     "text": [
      "Classification Report (Random Forest):\n",
      "               precision    recall  f1-score   support\n",
      "\n",
      "           0       0.98      0.99      0.99      1549\n",
      "           1       0.97      0.96      0.96       561\n",
      "\n",
      "    accuracy                           0.98      2110\n",
      "   macro avg       0.98      0.97      0.98      2110\n",
      "weighted avg       0.98      0.98      0.98      2110\n",
      "\n"
     ]
    }
   ],
   "source": [
    "from sklearn.ensemble import RandomForestClassifier\n",
    "\n",
    "\n",
    "# Create a Random Forest Classifier with 100 trees\n",
    "rf = RandomForestClassifier(n_estimators=100)\n",
    "\n",
    "\n",
    "rf.fit(x_train, y_train)\n",
    "\n",
    "\n",
    "y_pred_rf = rf.predict(x_test)\n",
    "\n",
    "\n",
    "report_rf = classification_report(y_test, y_pred_rf)\n",
    "\n",
    "\n",
    "print(\"Classification Report (Random Forest):\\n\", report_rf)\n"
   ]
  },
  {
   "cell_type": "code",
   "execution_count": 306,
   "id": "26ee7278",
   "metadata": {},
   "outputs": [
    {
     "name": "stdout",
     "output_type": "stream",
     "text": [
      "Classification Report:\n",
      "              precision    recall  f1-score   support\n",
      "\n",
      "           0       0.99      0.99      0.99      1549\n",
      "           1       0.97      0.96      0.97       561\n",
      "\n",
      "    accuracy                           0.98      2110\n",
      "   macro avg       0.98      0.98      0.98      2110\n",
      "weighted avg       0.98      0.98      0.98      2110\n",
      "\n"
     ]
    }
   ],
   "source": [
    "from sklearn.svm import SVC\n",
    "from sklearn.metrics import classification_report\n",
    "\n",
    "# Usin svm for training\n",
    "svm = SVC()\n",
    "\n",
    "\n",
    "svm.fit(x_train, y_train)\n",
    "\n",
    "\n",
    "y_pred = svm.predict(x_test)\n",
    "\n",
    "\n",
    "report = classification_report(y_test, y_pred)\n",
    "\n",
    "print(\"Classification Report:\")\n",
    "print(report)\n"
   ]
  },
  {
   "cell_type": "code",
   "execution_count": 316,
   "id": "3ea6063a",
   "metadata": {},
   "outputs": [],
   "source": [
    "# Comparison of accuracy scores of logistic , random forest and svm\n",
    "label2=['Logistic','RandomForest','Svm']\n",
    "models2=[lr1,rf,svm]\n",
    "final_result=[]\n",
    "\n",
    "\n",
    "for lab, mod in zip(label2,models2):\n",
    "    mod.fit(x_train,y_train)\n",
    "    y_pred= mod.predict(x_test)\n",
    "    accuracy=accuracy_score(y_pred, y_test)\n",
    "    final_result.append((lab,accuracy))"
   ]
  },
  {
   "cell_type": "code",
   "execution_count": 320,
   "id": "4a82f228",
   "metadata": {},
   "outputs": [
    {
     "data": {
      "text/html": [
       "<div>\n",
       "<style scoped>\n",
       "    .dataframe tbody tr th:only-of-type {\n",
       "        vertical-align: middle;\n",
       "    }\n",
       "\n",
       "    .dataframe tbody tr th {\n",
       "        vertical-align: top;\n",
       "    }\n",
       "\n",
       "    .dataframe thead th {\n",
       "        text-align: right;\n",
       "    }\n",
       "</style>\n",
       "<table border=\"1\" class=\"dataframe\">\n",
       "  <thead>\n",
       "    <tr style=\"text-align: right;\">\n",
       "      <th></th>\n",
       "      <th>Accuracy</th>\n",
       "    </tr>\n",
       "    <tr>\n",
       "      <th>Model</th>\n",
       "      <th></th>\n",
       "    </tr>\n",
       "  </thead>\n",
       "  <tbody>\n",
       "    <tr>\n",
       "      <th>Logistic</th>\n",
       "      <td>0.983886</td>\n",
       "    </tr>\n",
       "    <tr>\n",
       "      <th>RandomForest</th>\n",
       "      <td>0.981517</td>\n",
       "    </tr>\n",
       "    <tr>\n",
       "      <th>Svm</th>\n",
       "      <td>0.983412</td>\n",
       "    </tr>\n",
       "  </tbody>\n",
       "</table>\n",
       "</div>"
      ],
      "text/plain": [
       "              Accuracy\n",
       "Model                 \n",
       "Logistic      0.983886\n",
       "RandomForest  0.981517\n",
       "Svm           0.983412"
      ]
     },
     "execution_count": 320,
     "metadata": {},
     "output_type": "execute_result"
    }
   ],
   "source": [
    "#Converting it into a dataframe\n",
    "\n",
    "df = pd.DataFrame(final_result)\n",
    "df.rename(columns={0: 'Model', 1: 'Accuracy'}, inplace=True)\n",
    "df.set_index('Model', inplace=True)\n",
    "df.head()"
   ]
  },
  {
   "cell_type": "markdown",
   "id": "af5c9a5f",
   "metadata": {},
   "source": [
    "## Conclusion"
   ]
  },
  {
   "cell_type": "markdown",
   "id": "c473e836",
   "metadata": {},
   "source": [
    "Overall, these models got relatively good accuracy level with each getting atleast 98% accuracy with good classifcation reports too. Theerfore these models can be a good fit for predicting customer churn and reain more customers in future"
   ]
  }
 ],
 "metadata": {
  "kernelspec": {
   "display_name": "Python 3 (ipykernel)",
   "language": "python",
   "name": "python3"
  },
  "language_info": {
   "codemirror_mode": {
    "name": "ipython",
    "version": 3
   },
   "file_extension": ".py",
   "mimetype": "text/x-python",
   "name": "python",
   "nbconvert_exporter": "python",
   "pygments_lexer": "ipython3",
   "version": "3.10.9"
  }
 },
 "nbformat": 4,
 "nbformat_minor": 5
}
